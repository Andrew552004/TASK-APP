{
 "cells": [
  {
   "cell_type": "markdown",
   "id": "74cb26ad",
   "metadata": {},
   "source": [
    "\n",
    "# Análisis de Colores en la Interfaz de la Aplicación de Tareas\n",
    "\n",
    "**Elaborado por:**  \n",
    "Andrés Felipe Vanegas Bogotá  \n",
    "\n",
    "**Presentado a:**  \n",
    "Lilia Marcela Espinosa Rodriguez  \n",
    "\n",
    "**Asignatura:** Factores Humanos  \n",
    "Facultad de Ingeniería  \n",
    "Abril de 2025, Bogotá D.C.\n"
   ]
  },
  {
   "cell_type": "markdown",
   "id": "5ca3f1e3",
   "metadata": {},
   "source": [
    "\n",
    "## Introducción\n",
    "\n",
    "La teoría del color permite comprender cómo los colores afectan nuestras emociones y percepciones. En esta demostración se analizan tres tipos de sentimientos provocados por la carta de colores utilizada en la interfaz de la \"Aplicación de Tareas\", observando tanto su versión en modo claro como en modo oscuro. La información se fundamenta en principios de psicología del color extraídos del documento *\"Teoría del Color\"*.\n"
   ]
  },
  {
   "cell_type": "markdown",
   "id": "e7c0f8bb",
   "metadata": {},
   "source": [
    "\n",
    "## 1. Alegría / Energía\n",
    "\n",
    "**Colores implicados:** Amarillo, blanco, azul vibrante  \n",
    "\n",
    "En el modo claro de la aplicación, el fondo blanco transmite limpieza y apertura. La presencia del sol amarillo en la parte superior derecha introduce una sensación de energía positiva y vitalidad. Este color estimula la mente y genera entusiasmo. Además, el botón azul brillante para \"Agregar\" actúa como un llamado a la acción activo, promoviendo el dinamismo y la participación del usuario.  \n",
    "\n",
    "**Justificación según la teoría del color:**  \n",
    "El amarillo estimula el sistema nervioso y se asocia a la felicidad; el azul, en tonos vivos, inspira confianza y acción.\n"
   ]
  },
  {
   "cell_type": "markdown",
   "id": "00581b0b",
   "metadata": {},
   "source": [
    "\n",
    "## 2. Serenidad / Profesionalismo\n",
    "\n",
    "**Colores implicados:** Gris suave, blanco, azul  \n",
    "\n",
    "Tanto en el modo claro como en el oscuro, el uso de fondos neutros (gris y negro) junto con elementos blancos y azules transmite profesionalismo y calma. Estos colores favorecen un entorno sin distracciones, ideal para la concentración. El azul se mantiene como color de acción, pero al no ser demasiado saturado, también aporta equilibrio.  \n",
    "\n",
    "**Justificación según la teoría del color:**  \n",
    "Los grises y blancos son neutros que ofrecen estabilidad visual; el azul inspira seguridad y serenidad.\n"
   ]
  },
  {
   "cell_type": "markdown",
   "id": "41cf3ce8",
   "metadata": {},
   "source": [
    "\n",
    "## 3. Misterio / Enfoque\n",
    "\n",
    "**Colores implicados:** Negro, rojo  \n",
    "\n",
    "En el modo oscuro, el fondo negro genera un ambiente cerrado, introspectivo y misterioso. Esto puede ayudar a algunos usuarios a enfocarse mejor, al eliminar elementos visuales que distraen. Por otro lado, el botón rojo de \"Eliminar\" introduce una señal de advertencia clara, generando una reacción emocional intensa al representar peligro o acción definitiva.  \n",
    "\n",
    "**Justificación según la teoría del color:**  \n",
    "El negro está relacionado con la sofisticación y el misterio, mientras que el rojo activa una alerta emocional, siendo utilizado para acciones que requieren atención inmediata.\n"
   ]
  },
  {
   "cell_type": "markdown",
   "id": "c8c098bb",
   "metadata": {},
   "source": [
    "\n",
    "## Conclusión\n",
    "\n",
    "La interfaz de la \"Aplicación de Tareas\" logra transmitir diferentes estados emocionales gracias a su paleta de colores cuidadosamente seleccionada. La combinación de colores no solo tiene una función estética, sino que también potencia la experiencia del usuario, guiando sus acciones y emociones de manera intuitiva.\n"
   ]
  }
 ],
 "metadata": {},
 "nbformat": 4,
 "nbformat_minor": 5
}